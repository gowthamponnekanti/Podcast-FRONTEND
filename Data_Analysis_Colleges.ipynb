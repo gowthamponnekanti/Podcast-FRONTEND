{
  "nbformat": 4,
  "nbformat_minor": 0,
  "metadata": {
    "colab": {
      "name": "Data_Analysis_Colleges",
      "provenance": [],
      "include_colab_link": true
    },
    "kernelspec": {
      "name": "python3",
      "display_name": "Python 3"
    }
  },
  "cells": [
    {
      "cell_type": "markdown",
      "metadata": {
        "id": "view-in-github",
        "colab_type": "text"
      },
      "source": [
        "<a href=\"https://colab.research.google.com/github/gowthamponnekanti/Podcast-FRONTEND/blob/main/Data_Analysis_Colleges.ipynb\" target=\"_parent\"><img src=\"https://colab.research.google.com/assets/colab-badge.svg\" alt=\"Open In Colab\"/></a>"
      ]
    },
    {
      "cell_type": "code",
      "metadata": {
        "id": "GmH03APPZJBq"
      },
      "source": [
        "import pandas as pd\n",
        "import seaborn as sns\n",
        "import numpy as np\n",
        "import matplotlib.pyplot as plt"
      ],
      "execution_count": null,
      "outputs": []
    },
    {
      "cell_type": "code",
      "metadata": {
        "id": "iVnPLOEIZc0r"
      },
      "source": [
        "data=pd.read_csv(\"/content/college data.csv\")\n"
      ],
      "execution_count": null,
      "outputs": []
    },
    {
      "cell_type": "code",
      "metadata": {
        "id": "728Odre1Zn6d"
      },
      "source": [
        "data.head()"
      ],
      "execution_count": null,
      "outputs": []
    },
    {
      "cell_type": "code",
      "metadata": {
        "id": "4d95khRfZzMf"
      },
      "source": [
        "data.tail()"
      ],
      "execution_count": null,
      "outputs": []
    },
    {
      "cell_type": "code",
      "metadata": {
        "colab": {
          "base_uri": "https://localhost:8080/"
        },
        "id": "DPyjC_vzZ1H2",
        "outputId": "ccf883bc-816f-4622-e548-3810c0dc9956"
      },
      "source": [
        "data.shape"
      ],
      "execution_count": null,
      "outputs": [
        {
          "output_type": "execute_result",
          "data": {
            "text/plain": [
              "(1016, 20)"
            ]
          },
          "metadata": {
            "tags": []
          },
          "execution_count": 6
        }
      ]
    },
    {
      "cell_type": "code",
      "metadata": {
        "id": "moVW7hPVaWBC"
      },
      "source": [
        "data.isnull().sum()"
      ],
      "execution_count": null,
      "outputs": []
    },
    {
      "cell_type": "code",
      "metadata": {
        "id": "eVrDQ8wYarX8"
      },
      "source": [
        "data.drop(data.tail(1).index,inplace=True)"
      ],
      "execution_count": null,
      "outputs": []
    },
    {
      "cell_type": "code",
      "metadata": {
        "colab": {
          "base_uri": "https://localhost:8080/"
        },
        "id": "MpPy7GsJjpaB",
        "outputId": "5a75f709-59b0-4ba2-ae01-ebb821dd2b32"
      },
      "source": [
        "data.shape"
      ],
      "execution_count": null,
      "outputs": [
        {
          "output_type": "execute_result",
          "data": {
            "text/plain": [
              "(1015, 20)"
            ]
          },
          "metadata": {
            "tags": []
          },
          "execution_count": 11
        }
      ]
    },
    {
      "cell_type": "code",
      "metadata": {
        "id": "QU63_oBKbVyA"
      },
      "source": [
        "data.isnull().sum()"
      ],
      "execution_count": null,
      "outputs": []
    },
    {
      "cell_type": "code",
      "metadata": {
        "id": "04_r_Ajjbb9S"
      },
      "source": [
        "data.nunique()"
      ],
      "execution_count": null,
      "outputs": []
    },
    {
      "cell_type": "code",
      "metadata": {
        "id": "FmG-6t-oc1bT"
      },
      "source": [
        "data.drop(['S.No.','Application Number','Application Type','Inst Address','Inst Address 2','Pincode',],axis=1)"
      ],
      "execution_count": null,
      "outputs": []
    },
    {
      "cell_type": "code",
      "metadata": {
        "id": "v8DR0dJFkT-5"
      },
      "source": [
        "no_of_colleges=data['Institute Name'].groupby(data['State']).unique().apply(pd.Series)\n",
        "no_of_colleges"
      ],
      "execution_count": null,
      "outputs": []
    },
    {
      "cell_type": "code",
      "metadata": {
        "id": "ZCgWXaj8HNxn"
      },
      "source": [
        "graph_1=no_of_colleges.count(1)\n",
        "graph_1"
      ],
      "execution_count": null,
      "outputs": []
    },
    {
      "cell_type": "code",
      "metadata": {
        "id": "zcFldGHhJBII"
      },
      "source": [
        "graph_1.plot.bar(x='State',y='count')\n",
        "plt.title(\"States v/s No. of colleges\")"
      ],
      "execution_count": null,
      "outputs": []
    },
    {
      "cell_type": "code",
      "metadata": {
        "id": "4qD33PNgqSuX"
      },
      "source": [
        "data[\"Inst Type\"]= data[\"Inst Type\"].replace(\"Unaided - Private\",\"Unaided-Private\")"
      ],
      "execution_count": null,
      "outputs": []
    },
    {
      "cell_type": "code",
      "metadata": {
        "id": "-U3-6F_ZJANb"
      },
      "source": [
        ""
      ],
      "execution_count": null,
      "outputs": []
    },
    {
      "cell_type": "code",
      "metadata": {
        "id": "KnAQ8-Q_e0L_"
      },
      "source": [
        "aid_unaid=data['Institute Name'].groupby(data['Inst Type']).unique().apply(pd.Series)\n",
        "aid_unaid"
      ],
      "execution_count": null,
      "outputs": []
    },
    {
      "cell_type": "code",
      "metadata": {
        "id": "lHtL8PoArlH0"
      },
      "source": [
        "graph_2=aid_unaid.count(1)\n",
        "graph_2"
      ],
      "execution_count": null,
      "outputs": []
    },
    {
      "cell_type": "code",
      "metadata": {
        "id": "dEcOLqDXJ3ck"
      },
      "source": [
        "graph_2.plot.bar(x='Inst_Type',y='count')\n",
        "plt.title(\"Inst Type v/s No. of colleges\")"
      ],
      "execution_count": null,
      "outputs": []
    },
    {
      "cell_type": "code",
      "metadata": {
        "id": "KCOZTgCgmKBu"
      },
      "source": [
        "courses=data['Course'].groupby(data['Institute Name']).unique().apply(pd.Series)\n",
        "courses"
      ],
      "execution_count": null,
      "outputs": []
    },
    {
      "cell_type": "code",
      "metadata": {
        "id": "2SdvLhniIvFf"
      },
      "source": [
        "graph_3=courses.count(1)\n",
        "graph_3"
      ],
      "execution_count": null,
      "outputs": []
    },
    {
      "cell_type": "code",
      "metadata": {
        "id": "zn4yqp3LKOhA"
      },
      "source": [
        ""
      ],
      "execution_count": null,
      "outputs": []
    }
  ]
}